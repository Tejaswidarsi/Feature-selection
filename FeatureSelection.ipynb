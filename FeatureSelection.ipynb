{
  "nbformat": 4,
  "nbformat_minor": 0,
  "metadata": {
    "colab": {
      "provenance": [],
      "authorship_tag": "ABX9TyPGkhUQye0LMpmsQ+Ami/Ls",
      "include_colab_link": true
    },
    "kernelspec": {
      "name": "python3",
      "display_name": "Python 3"
    },
    "language_info": {
      "name": "python"
    }
  },
  "cells": [
    {
      "cell_type": "markdown",
      "metadata": {
        "id": "view-in-github",
        "colab_type": "text"
      },
      "source": [
        "<a href=\"https://colab.research.google.com/github/Tejaswidarsi/Feature-selection/blob/main/FeatureSelection.ipynb\" target=\"_parent\"><img src=\"https://colab.research.google.com/assets/colab-badge.svg\" alt=\"Open In Colab\"/></a>"
      ]
    },
    {
      "cell_type": "code",
      "source": [
        "# Import the necessary libraries\n",
        "import pandas as pd\n",
        "from sklearn.datasets import load_diabetes\n",
        "from sklearn.model_selection import train_test_split\n",
        "from sklearn.tree import DecisionTreeClassifier\n",
        "from sklearn.feature_selection import RFE\n",
        "from sklearn.metrics import accuracy_score\n",
        "from sklearn.feature_selection import SequentialFeatureSelector\n",
        "from sklearn.linear_model import LinearRegression\n",
        "# Import RandomForestRegressor and necessary metrics\n",
        "from sklearn.ensemble import RandomForestRegressor  # Import RandomForestRegressor\n",
        "from sklearn.metrics import mean_squared_error, r2_score # Import metrics for regression\n",
        "import pandas as pd\n",
        "from sklearn.model_selection import train_test_split\n",
        "from sklearn.linear_model import LogisticRegression\n",
        "from sklearn.metrics import accuracy_score\n",
        "from sklearn.impute import SimpleImputer # Import SimpleImputer for handling missing values\n"
      ],
      "metadata": {
        "id": "38n0norpSo9D"
      },
      "execution_count": 56,
      "outputs": []
    },
    {
      "cell_type": "markdown",
      "source": [
        "##Missing Values Ratio\n"
      ],
      "metadata": {
        "id": "H8AhP3FRSQ3F"
      }
    },
    {
      "cell_type": "markdown",
      "source": [
        "####1. Diabetes Dataset:\n",
        "\n",
        "Loading the dataset  and checking the missing values before filtering"
      ],
      "metadata": {
        "id": "RYZffX3sSXd5"
      }
    },
    {
      "cell_type": "code",
      "source": [
        "diabetes_dataset = pd.read_csv(\"/content/Diabetes Missing Data (1).csv\")\n",
        "diabetes_dataset.isnull().sum()"
      ],
      "metadata": {
        "colab": {
          "base_uri": "https://localhost:8080/",
          "height": 366
        },
        "id": "Ry26bXCyI56F",
        "outputId": "31077117-8475-412c-a659-6a5efc581ac6"
      },
      "execution_count": 57,
      "outputs": [
        {
          "output_type": "execute_result",
          "data": {
            "text/plain": [
              "Pregnant               0\n",
              "Glucose                5\n",
              "Diastolic_BP          35\n",
              "Skin_Fold            227\n",
              "Serum_Insulin        374\n",
              "BMI                   11\n",
              "Diabetes_Pedigree      0\n",
              "Age                    0\n",
              "Class                  0\n",
              "dtype: int64"
            ],
            "text/html": [
              "<div>\n",
              "<style scoped>\n",
              "    .dataframe tbody tr th:only-of-type {\n",
              "        vertical-align: middle;\n",
              "    }\n",
              "\n",
              "    .dataframe tbody tr th {\n",
              "        vertical-align: top;\n",
              "    }\n",
              "\n",
              "    .dataframe thead th {\n",
              "        text-align: right;\n",
              "    }\n",
              "</style>\n",
              "<table border=\"1\" class=\"dataframe\">\n",
              "  <thead>\n",
              "    <tr style=\"text-align: right;\">\n",
              "      <th></th>\n",
              "      <th>0</th>\n",
              "    </tr>\n",
              "  </thead>\n",
              "  <tbody>\n",
              "    <tr>\n",
              "      <th>Pregnant</th>\n",
              "      <td>0</td>\n",
              "    </tr>\n",
              "    <tr>\n",
              "      <th>Glucose</th>\n",
              "      <td>5</td>\n",
              "    </tr>\n",
              "    <tr>\n",
              "      <th>Diastolic_BP</th>\n",
              "      <td>35</td>\n",
              "    </tr>\n",
              "    <tr>\n",
              "      <th>Skin_Fold</th>\n",
              "      <td>227</td>\n",
              "    </tr>\n",
              "    <tr>\n",
              "      <th>Serum_Insulin</th>\n",
              "      <td>374</td>\n",
              "    </tr>\n",
              "    <tr>\n",
              "      <th>BMI</th>\n",
              "      <td>11</td>\n",
              "    </tr>\n",
              "    <tr>\n",
              "      <th>Diabetes_Pedigree</th>\n",
              "      <td>0</td>\n",
              "    </tr>\n",
              "    <tr>\n",
              "      <th>Age</th>\n",
              "      <td>0</td>\n",
              "    </tr>\n",
              "    <tr>\n",
              "      <th>Class</th>\n",
              "      <td>0</td>\n",
              "    </tr>\n",
              "  </tbody>\n",
              "</table>\n",
              "</div><br><label><b>dtype:</b> int64</label>"
            ]
          },
          "metadata": {},
          "execution_count": 57
        }
      ]
    },
    {
      "cell_type": "markdown",
      "source": [
        "Filtering columns based on missing values"
      ],
      "metadata": {
        "id": "fuaGGf9xJWui"
      }
    },
    {
      "cell_type": "code",
      "execution_count": 58,
      "metadata": {
        "colab": {
          "base_uri": "https://localhost:8080/",
          "height": 335
        },
        "id": "JfPlOZ9TRltG",
        "outputId": "5e78876d-9f69-444a-fb03-fd1b5c2ee217"
      },
      "outputs": [
        {
          "output_type": "execute_result",
          "data": {
            "text/plain": [
              "Pregnant               0\n",
              "Glucose                5\n",
              "Diastolic_BP          35\n",
              "Skin_Fold            227\n",
              "BMI                   11\n",
              "Diabetes_Pedigree      0\n",
              "Age                    0\n",
              "Class                  0\n",
              "dtype: int64"
            ],
            "text/html": [
              "<div>\n",
              "<style scoped>\n",
              "    .dataframe tbody tr th:only-of-type {\n",
              "        vertical-align: middle;\n",
              "    }\n",
              "\n",
              "    .dataframe tbody tr th {\n",
              "        vertical-align: top;\n",
              "    }\n",
              "\n",
              "    .dataframe thead th {\n",
              "        text-align: right;\n",
              "    }\n",
              "</style>\n",
              "<table border=\"1\" class=\"dataframe\">\n",
              "  <thead>\n",
              "    <tr style=\"text-align: right;\">\n",
              "      <th></th>\n",
              "      <th>0</th>\n",
              "    </tr>\n",
              "  </thead>\n",
              "  <tbody>\n",
              "    <tr>\n",
              "      <th>Pregnant</th>\n",
              "      <td>0</td>\n",
              "    </tr>\n",
              "    <tr>\n",
              "      <th>Glucose</th>\n",
              "      <td>5</td>\n",
              "    </tr>\n",
              "    <tr>\n",
              "      <th>Diastolic_BP</th>\n",
              "      <td>35</td>\n",
              "    </tr>\n",
              "    <tr>\n",
              "      <th>Skin_Fold</th>\n",
              "      <td>227</td>\n",
              "    </tr>\n",
              "    <tr>\n",
              "      <th>BMI</th>\n",
              "      <td>11</td>\n",
              "    </tr>\n",
              "    <tr>\n",
              "      <th>Diabetes_Pedigree</th>\n",
              "      <td>0</td>\n",
              "    </tr>\n",
              "    <tr>\n",
              "      <th>Age</th>\n",
              "      <td>0</td>\n",
              "    </tr>\n",
              "    <tr>\n",
              "      <th>Class</th>\n",
              "      <td>0</td>\n",
              "    </tr>\n",
              "  </tbody>\n",
              "</table>\n",
              "</div><br><label><b>dtype:</b> int64</label>"
            ]
          },
          "metadata": {},
          "execution_count": 58
        }
      ],
      "source": [
        "missing_ratio = diabetes_dataset.isnull().mean()\n",
        "diabetes_filtered = diabetes_dataset.loc[:, missing_ratio <= 0.30]\n",
        "diabetes_filtered.isnull().sum()"
      ]
    },
    {
      "cell_type": "markdown",
      "source": [
        "####2.Melbourne Housing Dataset:\n"
      ],
      "metadata": {
        "id": "yTrOSoG3NvXG"
      }
    },
    {
      "cell_type": "code",
      "source": [
        "mel_dataset = pd.read_csv(\"/content/melbourne_housing_raw.csv\")\n",
        "mel_dataset.info()\n",
        "mel_dataset.isnull().sum()"
      ],
      "metadata": {
        "colab": {
          "base_uri": "https://localhost:8080/",
          "height": 1000
        },
        "id": "q47PALpKOAps",
        "outputId": "fec54780-fea3-4097-ae6e-7ec9b5e2559b"
      },
      "execution_count": 59,
      "outputs": [
        {
          "output_type": "stream",
          "name": "stdout",
          "text": [
            "<class 'pandas.core.frame.DataFrame'>\n",
            "RangeIndex: 34857 entries, 0 to 34856\n",
            "Data columns (total 20 columns):\n",
            " #   Column         Non-Null Count  Dtype  \n",
            "---  ------         --------------  -----  \n",
            " 0   Suburb         34857 non-null  object \n",
            " 1   Rooms          34857 non-null  int64  \n",
            " 2   Type           34857 non-null  object \n",
            " 3   Price          27247 non-null  float64\n",
            " 4   Method         34857 non-null  object \n",
            " 5   SellerG        34857 non-null  object \n",
            " 6   Date           34857 non-null  object \n",
            " 7   Distance       34856 non-null  float64\n",
            " 8   Postcode       34856 non-null  float64\n",
            " 9   Bedroom2       26640 non-null  float64\n",
            " 10  Bathroom       26631 non-null  float64\n",
            " 11  Car            26129 non-null  float64\n",
            " 12  Landsize       23047 non-null  float64\n",
            " 13  BuildingArea   13742 non-null  float64\n",
            " 14  YearBuilt      15551 non-null  float64\n",
            " 15  CouncilArea    34854 non-null  object \n",
            " 16  Lattitude      26881 non-null  float64\n",
            " 17  Longtitude     26881 non-null  float64\n",
            " 18  Regionname     34854 non-null  object \n",
            " 19  Propertycount  34854 non-null  float64\n",
            "dtypes: float64(12), int64(1), object(7)\n",
            "memory usage: 5.3+ MB\n"
          ]
        },
        {
          "output_type": "execute_result",
          "data": {
            "text/plain": [
              "Suburb               0\n",
              "Rooms                0\n",
              "Type                 0\n",
              "Price             7610\n",
              "Method               0\n",
              "SellerG              0\n",
              "Date                 0\n",
              "Distance             1\n",
              "Postcode             1\n",
              "Bedroom2          8217\n",
              "Bathroom          8226\n",
              "Car               8728\n",
              "Landsize         11810\n",
              "BuildingArea     21115\n",
              "YearBuilt        19306\n",
              "CouncilArea          3\n",
              "Lattitude         7976\n",
              "Longtitude        7976\n",
              "Regionname           3\n",
              "Propertycount        3\n",
              "dtype: int64"
            ],
            "text/html": [
              "<div>\n",
              "<style scoped>\n",
              "    .dataframe tbody tr th:only-of-type {\n",
              "        vertical-align: middle;\n",
              "    }\n",
              "\n",
              "    .dataframe tbody tr th {\n",
              "        vertical-align: top;\n",
              "    }\n",
              "\n",
              "    .dataframe thead th {\n",
              "        text-align: right;\n",
              "    }\n",
              "</style>\n",
              "<table border=\"1\" class=\"dataframe\">\n",
              "  <thead>\n",
              "    <tr style=\"text-align: right;\">\n",
              "      <th></th>\n",
              "      <th>0</th>\n",
              "    </tr>\n",
              "  </thead>\n",
              "  <tbody>\n",
              "    <tr>\n",
              "      <th>Suburb</th>\n",
              "      <td>0</td>\n",
              "    </tr>\n",
              "    <tr>\n",
              "      <th>Rooms</th>\n",
              "      <td>0</td>\n",
              "    </tr>\n",
              "    <tr>\n",
              "      <th>Type</th>\n",
              "      <td>0</td>\n",
              "    </tr>\n",
              "    <tr>\n",
              "      <th>Price</th>\n",
              "      <td>7610</td>\n",
              "    </tr>\n",
              "    <tr>\n",
              "      <th>Method</th>\n",
              "      <td>0</td>\n",
              "    </tr>\n",
              "    <tr>\n",
              "      <th>SellerG</th>\n",
              "      <td>0</td>\n",
              "    </tr>\n",
              "    <tr>\n",
              "      <th>Date</th>\n",
              "      <td>0</td>\n",
              "    </tr>\n",
              "    <tr>\n",
              "      <th>Distance</th>\n",
              "      <td>1</td>\n",
              "    </tr>\n",
              "    <tr>\n",
              "      <th>Postcode</th>\n",
              "      <td>1</td>\n",
              "    </tr>\n",
              "    <tr>\n",
              "      <th>Bedroom2</th>\n",
              "      <td>8217</td>\n",
              "    </tr>\n",
              "    <tr>\n",
              "      <th>Bathroom</th>\n",
              "      <td>8226</td>\n",
              "    </tr>\n",
              "    <tr>\n",
              "      <th>Car</th>\n",
              "      <td>8728</td>\n",
              "    </tr>\n",
              "    <tr>\n",
              "      <th>Landsize</th>\n",
              "      <td>11810</td>\n",
              "    </tr>\n",
              "    <tr>\n",
              "      <th>BuildingArea</th>\n",
              "      <td>21115</td>\n",
              "    </tr>\n",
              "    <tr>\n",
              "      <th>YearBuilt</th>\n",
              "      <td>19306</td>\n",
              "    </tr>\n",
              "    <tr>\n",
              "      <th>CouncilArea</th>\n",
              "      <td>3</td>\n",
              "    </tr>\n",
              "    <tr>\n",
              "      <th>Lattitude</th>\n",
              "      <td>7976</td>\n",
              "    </tr>\n",
              "    <tr>\n",
              "      <th>Longtitude</th>\n",
              "      <td>7976</td>\n",
              "    </tr>\n",
              "    <tr>\n",
              "      <th>Regionname</th>\n",
              "      <td>3</td>\n",
              "    </tr>\n",
              "    <tr>\n",
              "      <th>Propertycount</th>\n",
              "      <td>3</td>\n",
              "    </tr>\n",
              "  </tbody>\n",
              "</table>\n",
              "</div><br><label><b>dtype:</b> int64</label>"
            ]
          },
          "metadata": {},
          "execution_count": 59
        }
      ]
    },
    {
      "cell_type": "code",
      "source": [
        "missing_ratio = mel_dataset.isnull().mean()\n",
        "melbourne_filtered = mel_dataset.loc[:, missing_ratio <= 0.20]\n",
        "melbourne_filtered.isnull().sum()\n"
      ],
      "metadata": {
        "colab": {
          "base_uri": "https://localhost:8080/",
          "height": 429
        },
        "id": "EBO4ECkdOZL5",
        "outputId": "63a6e05e-a9b4-414f-8216-8c8f2bb847a8"
      },
      "execution_count": 60,
      "outputs": [
        {
          "output_type": "execute_result",
          "data": {
            "text/plain": [
              "Suburb           0\n",
              "Rooms            0\n",
              "Type             0\n",
              "Method           0\n",
              "SellerG          0\n",
              "Date             0\n",
              "Distance         1\n",
              "Postcode         1\n",
              "CouncilArea      3\n",
              "Regionname       3\n",
              "Propertycount    3\n",
              "dtype: int64"
            ],
            "text/html": [
              "<div>\n",
              "<style scoped>\n",
              "    .dataframe tbody tr th:only-of-type {\n",
              "        vertical-align: middle;\n",
              "    }\n",
              "\n",
              "    .dataframe tbody tr th {\n",
              "        vertical-align: top;\n",
              "    }\n",
              "\n",
              "    .dataframe thead th {\n",
              "        text-align: right;\n",
              "    }\n",
              "</style>\n",
              "<table border=\"1\" class=\"dataframe\">\n",
              "  <thead>\n",
              "    <tr style=\"text-align: right;\">\n",
              "      <th></th>\n",
              "      <th>0</th>\n",
              "    </tr>\n",
              "  </thead>\n",
              "  <tbody>\n",
              "    <tr>\n",
              "      <th>Suburb</th>\n",
              "      <td>0</td>\n",
              "    </tr>\n",
              "    <tr>\n",
              "      <th>Rooms</th>\n",
              "      <td>0</td>\n",
              "    </tr>\n",
              "    <tr>\n",
              "      <th>Type</th>\n",
              "      <td>0</td>\n",
              "    </tr>\n",
              "    <tr>\n",
              "      <th>Method</th>\n",
              "      <td>0</td>\n",
              "    </tr>\n",
              "    <tr>\n",
              "      <th>SellerG</th>\n",
              "      <td>0</td>\n",
              "    </tr>\n",
              "    <tr>\n",
              "      <th>Date</th>\n",
              "      <td>0</td>\n",
              "    </tr>\n",
              "    <tr>\n",
              "      <th>Distance</th>\n",
              "      <td>1</td>\n",
              "    </tr>\n",
              "    <tr>\n",
              "      <th>Postcode</th>\n",
              "      <td>1</td>\n",
              "    </tr>\n",
              "    <tr>\n",
              "      <th>CouncilArea</th>\n",
              "      <td>3</td>\n",
              "    </tr>\n",
              "    <tr>\n",
              "      <th>Regionname</th>\n",
              "      <td>3</td>\n",
              "    </tr>\n",
              "    <tr>\n",
              "      <th>Propertycount</th>\n",
              "      <td>3</td>\n",
              "    </tr>\n",
              "  </tbody>\n",
              "</table>\n",
              "</div><br><label><b>dtype:</b> int64</label>"
            ]
          },
          "metadata": {},
          "execution_count": 60
        }
      ]
    },
    {
      "cell_type": "markdown",
      "source": [
        "##High Correlation Filter"
      ],
      "metadata": {
        "id": "CCmSLQDSPSKq"
      }
    },
    {
      "cell_type": "markdown",
      "source": [
        "####3.Diabetes Dataset:\n",
        "\n",
        "Find pairs of features with correlation > 0.8, remove one from each pair, then assess model accuracy."
      ],
      "metadata": {
        "id": "NCP60B0sZiD1"
      }
    },
    {
      "cell_type": "code",
      "source": [
        "import pandas as pd\n",
        "from sklearn.model_selection import train_test_split\n",
        "from sklearn.linear_model import LogisticRegression\n",
        "from sklearn.metrics import accuracy_score\n",
        "from sklearn.impute import SimpleImputer\n",
        "\n",
        "# Assuming 'diabetes_dataset' is already loaded, and 'Class' is the target column\n",
        "# Step 1: Split dataset into features and target variable\n",
        "X = diabetes_dataset.drop('Class', axis=1)\n",
        "y = diabetes_dataset['Class']\n",
        "\n",
        "# Step 2: Split the dataset into training and testing sets\n",
        "X_train, X_test, y_train, y_test = train_test_split(X, y, test_size=0.3, random_state=42)\n",
        "\n",
        "# Step 3: Impute missing values (mean strategy)\n",
        "imputer = SimpleImputer(strategy='mean')\n",
        "X_train = imputer.fit_transform(X_train)\n",
        "X_test = imputer.transform(X_test)\n",
        "\n",
        "# Step 4: Train Logistic Regression and assess accuracy before removing correlated features\n",
        "model = LogisticRegression(random_state=42, max_iter=1000)\n",
        "model.fit(X_train, y_train)\n",
        "\n",
        "y_pred_train = model.predict(X_train)\n",
        "y_pred_test = model.predict(X_test)\n",
        "\n",
        "# Accuracy before removing correlated features\n",
        "train_acc_before = accuracy_score(y_train, y_pred_train)\n",
        "test_acc_before = accuracy_score(y_test, y_pred_test)\n",
        "\n",
        "# Print results before feature removal\n",
        "print(f\"Accuracy before feature removal - Train: {train_acc_before}, Test: {test_acc_before}\")\n",
        "\n",
        "# Step 5: Removing highly correlated features\n",
        "# Calculate correlation matrix and identify highly correlated features\n",
        "X_train_df = pd.DataFrame(X_train, columns=X.columns) # Convert X_train back to DataFrame for correlation calculation\n",
        "corr_matrix = X_train_df.corr().abs()\n",
        "high_corr_features = [column for column in corr_matrix.columns if any(corr_matrix[column] > 0.8) and column != corr_matrix.index[corr_matrix[column].argmax()]] # Exclude the feature itself from the list\n",
        "\n",
        "\n",
        "X_train_filtered = X_train_df.drop(columns=high_corr_features)\n",
        "X_test_filtered = pd.DataFrame(X_test, columns=X.columns).drop(columns=high_corr_features)\n",
        "\n",
        "# Impute again for filtered data (if necessary, depending on filtering process)\n",
        "X_train_filtered = imputer.fit_transform(X_train_filtered)\n",
        "X_test_filtered = imputer.transform(X_test_filtered)\n",
        "\n",
        "# Step 6: Train the model and assess accuracy after removing correlated features\n",
        "model.fit(X_train_filtered, y_train)\n",
        "y_pred_train_filtered = model.predict(X_train_filtered)\n",
        "y_pred_test_filtered = model.predict(X_test_filtered)\n",
        "\n",
        "# Accuracy after removing correlated features\n",
        "train_acc_after = accuracy_score(y_train, y_pred_train_filtered)\n",
        "test_acc_after = accuracy_score(y_test, y_pred_test_filtered)\n",
        "\n",
        "# Print results after feature removal\n",
        "print(f\"Highly correlated features removed: {high_corr_features}\")\n",
        "print(f\"Accuracy after feature removal - Train: {train_acc_after}, Test: {test_acc_after}\")"
      ],
      "metadata": {
        "colab": {
          "base_uri": "https://localhost:8080/"
        },
        "id": "yCVcnp1nZoQQ",
        "outputId": "3c9c949d-5aa6-4e3a-d56b-1a61ceb83376"
      },
      "execution_count": 61,
      "outputs": [
        {
          "output_type": "stream",
          "name": "stdout",
          "text": [
            "Accuracy before feature removal - Train: 0.7802607076350093, Test: 0.7402597402597403\n",
            "Highly correlated features removed: []\n",
            "Accuracy after feature removal - Train: 0.7802607076350093, Test: 0.7402597402597403\n"
          ]
        }
      ]
    },
    {
      "cell_type": "markdown",
      "source": [
        "####4. Melbourne Housing Dataset:\n",
        "\n",
        "Similarly, remove features with a correlation greater than 0.85 and evaluate the model's performance for price prediction."
      ],
      "metadata": {
        "id": "P6D6_hh2bwRf"
      }
    },
    {
      "cell_type": "code",
      "source": [
        "mf = pd.DataFrame(melbourne_filtered, columns=melbourne_filtered.columns)\n",
        "num_features = melbourne_filtered.select_dtypes(include=['number']).columns\n",
        "corr_matrix = melbourne_filtered[num_features].corr().abs()\n",
        "high_corr_features = [column for column in corr_matrix.columns if any(corr_matrix[column] > 0.85)]\n",
        "mel_filtered = melbourne_filtered.drop(columns=high_corr_features)\n",
        "print(mel_filtered.head())\n"
      ],
      "metadata": {
        "colab": {
          "base_uri": "https://localhost:8080/"
        },
        "id": "ZrwT6DvUakCk",
        "outputId": "7b405428-4375-4aef-f857-58c52ba713e3"
      },
      "execution_count": 62,
      "outputs": [
        {
          "output_type": "stream",
          "name": "stdout",
          "text": [
            "       Suburb Type Method SellerG     Date         CouncilArea  \\\n",
            "0  Abbotsford    h     SS  Jellis   3/9/16  Yarra City Council   \n",
            "1  Abbotsford    h      S  Biggin  3/12/16  Yarra City Council   \n",
            "2  Abbotsford    h      S  Biggin   4/2/16  Yarra City Council   \n",
            "3  Abbotsford    u     VB  Rounds   4/2/16  Yarra City Council   \n",
            "4  Abbotsford    h     SP  Biggin   4/3/17  Yarra City Council   \n",
            "\n",
            "              Regionname  \n",
            "0  Northern Metropolitan  \n",
            "1  Northern Metropolitan  \n",
            "2  Northern Metropolitan  \n",
            "3  Northern Metropolitan  \n",
            "4  Northern Metropolitan  \n"
          ]
        }
      ]
    },
    {
      "cell_type": "markdown",
      "source": [
        "##Low Variance Filter"
      ],
      "metadata": {
        "id": "GF4bg1oQb81_"
      }
    },
    {
      "cell_type": "markdown",
      "source": [
        "####5.Diabetes Dataset:\n",
        "\n",
        "Remove features with very low variance and retrain the model"
      ],
      "metadata": {
        "id": "_X5Lxq5PcI9J"
      }
    },
    {
      "cell_type": "code",
      "source": [
        "from sklearn.feature_selection import VarianceThreshold\n",
        "selector = VarianceThreshold(threshold=0.01)\n",
        "diabetes_filtered = selector.fit_transform(diabetes_dataset)"
      ],
      "metadata": {
        "id": "OjDQAKPOcQQf"
      },
      "execution_count": 63,
      "outputs": []
    },
    {
      "cell_type": "markdown",
      "source": [
        "####6.Melbourne Housing Dataset:\n",
        "\n",
        "Apply the low variance filter and evaluate its impact on housing price prediction"
      ],
      "metadata": {
        "id": "l2fSS1Cldyua"
      }
    },
    {
      "cell_type": "code",
      "source": [
        "selector = VarianceThreshold(threshold=0.01)\n",
        "melbourne_filtered = selector.fit_transform(mel_dataset[num_features])"
      ],
      "metadata": {
        "id": "eybOydTYd4Tb"
      },
      "execution_count": 64,
      "outputs": []
    },
    {
      "cell_type": "markdown",
      "source": [
        "##Forward Feature Selection"
      ],
      "metadata": {
        "id": "CyvZqzAYfEbH"
      }
    },
    {
      "cell_type": "markdown",
      "source": [
        "####7. Diabetes Dataset:\n",
        "\n",
        "Use forward selection to select the best features for logistic regression, and determine the optimal number of features."
      ],
      "metadata": {
        "id": "vShCu2sCfMKc"
      }
    },
    {
      "cell_type": "code",
      "source": [
        "imputer = SimpleImputer(strategy='mean') # Create an imputer instance with strategy='mean'\n",
        "X_diabetes_imputed = imputer.fit_transform(X) # Fit and transform the imputer on X_diabetes\n",
        "X_diabetes_imputed = pd.DataFrame(X_diabetes_imputed, columns=X.columns) # Convert back to DataFrame\n",
        "\n",
        "X_train, X_test, y_train, y_test = train_test_split(X_diabetes_imputed, y, test_size=0.3, random_state=42)\n",
        "# Use the imputed data for train_test_split\n",
        "\n",
        "\n",
        "log_reg = LogisticRegression(max_iter=1000)\n",
        "sfs_diabetes = SequentialFeatureSelector(log_reg, n_features_to_select=\"auto\", direction='forward')\n",
        "sfs_diabetes.fit(X_train, y_train)\n",
        "diabetes_selected_features = sfs_diabetes.get_support()\n",
        "print(\"Diabetes Selected Features: \", diabetes_selected_features)"
      ],
      "metadata": {
        "colab": {
          "base_uri": "https://localhost:8080/"
        },
        "id": "gMq3HaWFfdBI",
        "outputId": "3c2691e6-f577-4d84-89bd-49496e53d139"
      },
      "execution_count": 65,
      "outputs": [
        {
          "output_type": "stream",
          "name": "stdout",
          "text": [
            "Diabetes Selected Features:  [False  True False False False  True  True  True]\n"
          ]
        }
      ]
    },
    {
      "cell_type": "code",
      "source": [
        "melbourne_data = mel_dataset.dropna(subset=['Price']).sample(frac=0.2, random_state=42)\n",
        "\n",
        "# Define feature matrix X and target vector y\n",
        "X = melbourne_data.drop('Price', axis=1)\n",
        "y = melbourne_data['Price']\n",
        "\n",
        "# Optional: Drop columns with high missing values or that are unlikely to be useful\n",
        "X = X.drop(columns=['BuildingArea', 'YearBuilt', 'SellerG', 'Date', 'Lattitude', 'Longtitude'], errors='ignore')\n",
        "\n",
        "categorical_features = X.select_dtypes(include=['object']).columns\n",
        "\n",
        "# ----> One-hot encode categorical features <----\n",
        "encoder = OneHotEncoder(sparse_output=False, handle_unknown='ignore')\n",
        "encoded_data = encoder.fit_transform(X[categorical_features])\n",
        "encoded_df = pd.DataFrame(encoded_data, columns=encoder.get_feature_names_out(categorical_features))\n",
        "\n",
        "# ----> Concatenate encoded features with numerical features <----\n",
        "X = X.drop(categorical_features, axis=1)\n",
        "X = pd.concat([X.reset_index(drop=True), encoded_df.reset_index(drop=True)], axis=1)\n",
        "\n",
        "# ----> Impute missing values <----\n",
        "imputer = SimpleImputer(strategy='mean')\n",
        "X = imputer.fit_transform(X)\n",
        "\n",
        "# Combine X and y for sampling\n",
        "combined_data = pd.DataFrame(X)  # Convert to DataFrame for easier handling\n",
        "combined_data['Price'] = y.reset_index(drop=True)\n",
        "\n",
        "# Split the combined data into training and testing sets\n",
        "X_train, X_test = train_test_split(combined_data, test_size=0.3, random_state=42)\n",
        "\n",
        "# Sample from the training data\n",
        "X_sample = X_train.sample(frac=0.2, random_state=42)\n",
        "y_sample = X_sample['Price']\n",
        "X_sample = X_sample.drop(columns=['Price'])  # Drop the target column\n",
        "\n",
        "# Step 1: Initialize the Linear Regression model\n",
        "lin_reg = LinearRegression()\n",
        "\n",
        "# Step 2: Implement Forward Feature Selection with reduced parameters\n",
        "sfs = SequentialFeatureSelector(lin_reg, n_features_to_select=5, direction='forward', scoring='neg_mean_squared_error', cv=2)\n",
        "\n",
        "# Fit the selector to the sample of the training data for quicker evaluation\n",
        "sfs.fit(X_sample, y_sample)\n",
        "\n",
        "# Step 3: Get the selected features\n",
        "selected_features = sfs.get_support()\n",
        "\n",
        "# Step 4: Prepare X_train and y_train for model training\n",
        "X_train_selected = X_train.drop(columns=['Price']).iloc[:, selected_features]\n",
        "y_train = X_train['Price']  # Get y_train from the original X_train\n",
        "\n",
        "# Ensure the same selection is applied to X_test\n",
        "X_test_selected = X_test.drop(columns=['Price']).iloc[:, selected_features]\n",
        "\n",
        "# Fit the Linear Regression model using the selected features\n",
        "lin_reg.fit(X_train_selected, y_train)\n",
        "\n",
        "# Step 5: Make predictions and evaluate the model\n",
        "y_pred_train = lin_reg.predict(X_train_selected)\n",
        "y_pred_test = lin_reg.predict(X_test_selected)\n",
        "\n",
        "train_mse = mean_squared_error(y_train, y_pred_train)\n",
        "test_mse = mean_squared_error(X_test['Price'], y_pred_test)\n",
        "\n",
        "# Print results\n",
        "print(f\"Selected Features: {original_columns[selected_features]}\")"
      ],
      "metadata": {
        "colab": {
          "base_uri": "https://localhost:8080/"
        },
        "id": "p1NrSiz5hEon",
        "outputId": "cc00bc36-313b-4cc4-c1cf-87d5f14b1b39"
      },
      "execution_count": 66,
      "outputs": [
        {
          "output_type": "stream",
          "name": "stdout",
          "text": [
            "Selected Features: Index([0, 1, 319, 364, 365], dtype='object')\n"
          ]
        }
      ]
    },
    {
      "cell_type": "markdown",
      "source": [
        "##Backward Feature Elimination"
      ],
      "metadata": {
        "id": "jmqeQHDayb5U"
      }
    },
    {
      "cell_type": "markdown",
      "source": [
        "####9. Diabetes Dataset:\n",
        "Perform backward feature elimination on the diabetes dataset using\n",
        "a decision tree classifier, removing the least important features one by one,"
      ],
      "metadata": {
        "id": "X3RYzxtPylBQ"
      }
    },
    {
      "cell_type": "code",
      "source": [
        "import pandas as pd\n",
        "from sklearn.datasets import load_diabetes\n",
        "from sklearn.model_selection import train_test_split\n",
        "from sklearn.tree import DecisionTreeClassifier\n",
        "from sklearn.feature_selection import RFE\n",
        "from sklearn.metrics import accuracy_score\n",
        "\n",
        "# Load the diabetes dataset\n",
        "diabetes_data = load_diabetes()\n",
        "X = pd.DataFrame(diabetes_data.data, columns=diabetes_data.feature_names)\n",
        "y = (diabetes_data.target > diabetes_data.target.mean()).astype(int)  # Convert to binary outcome\n",
        "\n",
        "# Split the dataset into training and testing sets\n",
        "X_train, X_test, y_train, y_test = train_test_split(X, y, test_size=0.2, random_state=42)\n",
        "\n",
        "# Create a decision tree classifier\n",
        "decision_tree = DecisionTreeClassifier(random_state=42)\n",
        "\n",
        "# Implement backward feature elimination\n",
        "selector = RFE(decision_tree, n_features_to_select=1)  # We want to eliminate features one by one\n",
        "selector.fit(X_train, y_train)\n",
        "\n",
        "# Get the ranking of features\n",
        "feature_ranking = selector.ranking_\n",
        "features = X.columns.tolist()\n",
        "\n",
        "# Create a DataFrame for feature ranking\n",
        "ranking_df = pd.DataFrame({'Feature': features, 'Ranking': feature_ranking})\n",
        "print(\"Feature Rankings:\\n\", ranking_df.sort_values('Ranking'))\n",
        "\n",
        "# Select features\n",
        "selected_features = X.columns[selector.support_].tolist()\n",
        "print(\"Selected Features after Backward Elimination:\", selected_features)\n",
        "\n",
        "# Train the model with the selected features\n",
        "decision_tree.fit(X_train[selected_features], y_train)\n",
        "\n",
        "# Predict on the test set\n",
        "y_pred = decision_tree.predict(X_test[selected_features])\n",
        "\n",
        "# Calculate accuracy\n",
        "accuracy = accuracy_score(y_test, y_pred)\n",
        "print(f'Accuracy of the model with selected features: {accuracy:.2f}')\n"
      ],
      "metadata": {
        "colab": {
          "base_uri": "https://localhost:8080/"
        },
        "id": "te8-HwrJyu6p",
        "outputId": "aa67a1a1-0c30-46c3-c324-d2b731bc8316"
      },
      "execution_count": 67,
      "outputs": [
        {
          "output_type": "stream",
          "name": "stdout",
          "text": [
            "Feature Rankings:\n",
            "   Feature  Ranking\n",
            "2     bmi        1\n",
            "8      s5        2\n",
            "4      s1        3\n",
            "9      s6        4\n",
            "3      bp        5\n",
            "5      s2        6\n",
            "6      s3        7\n",
            "0     age        8\n",
            "7      s4        9\n",
            "1     sex       10\n",
            "Selected Features after Backward Elimination: ['bmi']\n",
            "Accuracy of the model with selected features: 0.67\n"
          ]
        }
      ]
    },
    {
      "cell_type": "markdown",
      "source": [
        "####10. Melbourne Housing Dataset: Apply backward feature elimination on the Melbourne\n",
        "housing dataset using a random forest model, and analyze how removing the least\n",
        "important features one at a time impacts the accuracy of price predictions."
      ],
      "metadata": {
        "id": "hKLil8gmz2jr"
      }
    },
    {
      "cell_type": "code",
      "source": [
        "random_forest = RandomForestRegressor(random_state=42)\n",
        "\n",
        "# Implement backward feature elimination\n",
        "selector = RFE(random_forest, n_features_to_select=1)  # We want to eliminate features one by one\n",
        "selector.fit(X_train, y_train)\n",
        "\n",
        "# Get the ranking of features\n",
        "feature_ranking = selector.ranking_\n",
        "features = X.columns.tolist()\n",
        "\n",
        "ranking_df = pd.DataFrame({'Feature': features, 'Ranking': feature_ranking})\n",
        "print(\"Feature Rankings:\\n\", ranking_df.sort_values('Ranking'))\n",
        "\n",
        "# Select features\n",
        "selected_features = X.columns[selector.support_].tolist()\n",
        "print(\"Selected Features after Backward Elimination:\", selected_features)\n",
        "\n",
        "# Train the model with the selected features\n",
        "random_forest.fit(X_train[selected_features], y_train)\n",
        "\n",
        "# Predict on the test set\n",
        "y_pred = random_forest.predict(X_test[selected_features])\n",
        "\n",
        "# Calculate metrics\n",
        "mse = mean_squared_error(y_test, y_pred)\n",
        "r2 = r2_score(y_test, y_pred)\n",
        "print(f'Mean Squared Error with selected features: {mse:.2f}')\n",
        "print(f'R² Score with selected features: {r2:.2f}')"
      ],
      "metadata": {
        "colab": {
          "base_uri": "https://localhost:8080/"
        },
        "id": "5M4usPzdz2JI",
        "outputId": "c200dd45-8f77-47be-cae6-8783c9113951"
      },
      "execution_count": 68,
      "outputs": [
        {
          "output_type": "stream",
          "name": "stdout",
          "text": [
            "Feature Rankings:\n",
            "   Feature  Ranking\n",
            "8      s5        1\n",
            "2     bmi        2\n",
            "3      bp        3\n",
            "5      s2        4\n",
            "0     age        5\n",
            "9      s6        6\n",
            "4      s1        7\n",
            "6      s3        8\n",
            "7      s4        9\n",
            "1     sex       10\n",
            "Selected Features after Backward Elimination: ['s5']\n",
            "Mean Squared Error with selected features: 0.21\n",
            "R² Score with selected features: 0.13\n"
          ]
        }
      ]
    },
    {
      "cell_type": "markdown",
      "source": [
        "##Random Forest"
      ],
      "metadata": {
        "id": "hQMjmxwJ1qJn"
      }
    },
    {
      "cell_type": "code",
      "source": [
        "import pandas as pd\n",
        "from sklearn.datasets import load_diabetes\n",
        "from sklearn.model_selection import train_test_split\n",
        "from sklearn.ensemble import RandomForestClassifier\n",
        "from sklearn.metrics import accuracy_score\n",
        "\n",
        "# Load the diabetes dataset\n",
        "\n",
        "random_forest = RandomForestClassifier(random_state=42)\n",
        "\n",
        "# Train the model\n",
        "random_forest.fit(X_train, y_train)\n",
        "\n",
        "# Get feature importances\n",
        "importances = random_forest.feature_importances_\n",
        "\n",
        "# Create a DataFrame for feature importance\n",
        "importance_df = pd.DataFrame({'Feature': X.columns, 'Importance': importances})\n",
        "importance_df = importance_df.sort_values(by='Importance', ascending=False)\n",
        "\n",
        "# Select the top 5 most important features\n",
        "top_features = importance_df.head(5)['Feature'].tolist()\n",
        "print(\"Top 5 Important Features:\", top_features)\n",
        "\n",
        "# Train the model with the selected features\n",
        "random_forest.fit(X_train[top_features], y_train)\n",
        "\n",
        "# Predict on the test set\n",
        "y_pred = random_forest.predict(X_test[top_features])\n",
        "\n",
        "# Calculate accuracy\n",
        "accuracy = accuracy_score(y_test, y_pred)\n",
        "print(f'Accuracy of the model with top 5 features: {accuracy:.2f}')\n"
      ],
      "metadata": {
        "id": "1hoALrW41pu1",
        "colab": {
          "base_uri": "https://localhost:8080/"
        },
        "outputId": "a929daca-4861-45fa-dc25-c75001212406"
      },
      "execution_count": 69,
      "outputs": [
        {
          "output_type": "stream",
          "name": "stdout",
          "text": [
            "Top 5 Important Features: ['bmi', 's5', 'bp', 's6', 's2']\n",
            "Accuracy of the model with top 5 features: 0.73\n"
          ]
        }
      ]
    },
    {
      "cell_type": "code",
      "source": [
        "random_forest = RandomForestRegressor(random_state=42)\n",
        "\n",
        "# Train the model\n",
        "random_forest.fit(X_train, y_train)\n",
        "\n",
        "# Get feature importances\n",
        "importances = random_forest.feature_importances_\n",
        "\n",
        "# Create a DataFrame for feature importance\n",
        "importance_df = pd.DataFrame({'Feature': X.columns, 'Importance': importances})\n",
        "importance_df = importance_df.sort_values(by='Importance', ascending=False)\n",
        "\n",
        "# Optionally, you can remove the least important features, e.g., keep top k features\n",
        "k = 10  # You can adjust this based on your analysis\n",
        "top_features = importance_df.head(k)['Feature'].tolist()\n",
        "print(\"Top Features for Housing Prices:\", top_features)\n",
        "random_forest.fit(X_train[top_features], y_train)\n",
        "\n",
        "# Predict on the test set\n",
        "y_pred = random_forest.predict(X_test[top_features])\n",
        "\n",
        "# Calculate metrics\n",
        "mse = mean_squared_error(y_test, y_pred)\n",
        "r2 = r2_score(y_test, y_pred)\n",
        "\n",
        "print(f'Mean Squared Error with selected features: {mse:.2f}')\n",
        "print(f'R² Score with selected features: {r2:.2f}')\n"
      ],
      "metadata": {
        "id": "pHhbjeb52CgC",
        "colab": {
          "base_uri": "https://localhost:8080/"
        },
        "outputId": "da8ad96a-d983-4cc9-a74e-c0d9ed3f3206"
      },
      "execution_count": 70,
      "outputs": [
        {
          "output_type": "stream",
          "name": "stdout",
          "text": [
            "Top Features for Housing Prices: ['s5', 'bmi', 'bp', 's2', 'age', 's6', 's1', 's3', 's4', 'sex']\n",
            "Mean Squared Error with selected features: 0.19\n",
            "R² Score with selected features: 0.24\n"
          ]
        }
      ]
    }
  ]
}